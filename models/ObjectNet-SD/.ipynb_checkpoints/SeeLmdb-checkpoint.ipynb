{
 "cells": [
  {
   "cell_type": "code",
   "execution_count": null,
   "metadata": {},
   "outputs": [
    {
     "name": "stdout",
     "output_type": "stream",
     "text": [
      "(<type 'str'>, '00000000_staticbackground_chair/staticbackground_TEST/2881_gt.png')\n",
      "(7, 240, 320)\n",
      "7\n",
      "(240, 320)\n"
     ]
    }
   ],
   "source": [
    "import lmdb\n",
    "import caffe\n",
    "from caffe.proto import caffe_pb2\n",
    "import cv2 as cv\n",
    "\n",
    "env = lmdb.open(\"/home/user/Luyuqiu/flownet2/data/staticbackground_chair/staticbackground_TEST_lmdb\", readonly=True)\n",
    "txn = env.begin()\n",
    "cur = txn.cursor()\n",
    "datum = caffe_pb2.Datum() # caffe 定义的数据类型\n",
    "\n",
    "\n",
    "for key, value in cur:\n",
    "    print(type(key), key)\n",
    "    datum.ParseFromString(value) # 反序列化成 datum 对象\n",
    "\n",
    "    data = caffe.io.datum_to_array(datum)\n",
    "    print(data.shape)\n",
    "    print(datum.channels)\n",
    "    gt = data[6]\n",
    "    print(gt.shape)\n",
    "    cv.imshow(\"gt\",gt)\n",
    "    cv.waitKey(100)\n",
    "\n",
    "cv2.destroyAllWindows()\n",
    "env.close()"
   ]
  },
  {
   "cell_type": "code",
   "execution_count": null,
   "metadata": {},
   "outputs": [],
   "source": []
  },
  {
   "cell_type": "code",
   "execution_count": null,
   "metadata": {},
   "outputs": [],
   "source": []
  },
  {
   "cell_type": "code",
   "execution_count": null,
   "metadata": {},
   "outputs": [],
   "source": []
  },
  {
   "cell_type": "code",
   "execution_count": null,
   "metadata": {},
   "outputs": [],
   "source": []
  },
  {
   "cell_type": "code",
   "execution_count": null,
   "metadata": {},
   "outputs": [],
   "source": []
  }
 ],
 "metadata": {
  "kernelspec": {
   "display_name": "Python 2",
   "language": "python",
   "name": "python2"
  },
  "language_info": {
   "codemirror_mode": {
    "name": "ipython",
    "version": 2
   },
   "file_extension": ".py",
   "mimetype": "text/x-python",
   "name": "python",
   "nbconvert_exporter": "python",
   "pygments_lexer": "ipython2",
   "version": "2.7.14"
  }
 },
 "nbformat": 4,
 "nbformat_minor": 2
}
